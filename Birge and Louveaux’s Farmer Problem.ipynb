{
 "cells": [
  {
   "cell_type": "markdown",
   "metadata": {},
   "source": [
    "# Birge and Louveaux’s Farmer Problem"
   ]
  },
  {
   "cell_type": "markdown",
   "metadata": {},
   "source": [
    "We define the abastract model containig the specification of the model in a parametric form"
   ]
  },
  {
   "cell_type": "code",
   "execution_count": 2,
   "metadata": {},
   "outputs": [],
   "source": [
    "import pyomo.environ as pyo"
   ]
  },
  {
   "cell_type": "code",
   "execution_count": 15,
   "metadata": {},
   "outputs": [],
   "source": [
    "from pyomo.environ import *\n",
    "#-------------------------abastract model----------------------------\n",
    "model = pyo.AbstractModel()\n",
    "\n",
    "#---------------------------index sets-------------------------------\n",
    "model.crops = Set()\n",
    "\n",
    "#---------------------------parameters-------------------------------\n",
    "#objective function\n",
    "model.plantingCosts = Param(model.crops, within = PositiveReals)\n",
    "model.purchasePrices = Param(model.crops, within = PositiveReals)\n",
    "model.sellingPricesSubQuota = Param(model.crops, within = PositiveReals)\n",
    "\n",
    "def sellingQuotaPricesValidation(model, value, i):\n",
    "    return model.sellingPricesSubQuota[i] >= model.sellingPricesOverQuota[i]\n",
    "\n",
    "model.sellingPricesOverQuota = Param(model.crops, validate = sellingQuotaPricesValidation)\n",
    "\n",
    "#constraints\n",
    "model.totalArea = Param(within = PositiveReals)\n",
    "model.productionRequirement = Param(model.crops, within = NonNegativeReals)\n",
    "model.pricesQuota = Param(model.crops, within = PositiveReals)\n",
    "model.cropsYielding = Param(model.crops, within = NonNegativeReals)\n",
    "\n",
    "#---------------------------variables--------------------------------\n",
    "model.acresToCrops = Var(model.crops, bounds = (0.0, model.totalArea))\n",
    "model.cropsPurchased = Var(model.crops, bounds = (0.0, None))\n",
    "model.cropsSoldedSubQuota = Var(model.crops, bounds = (0.0, None))\n",
    "model.cropsSoldedOverQuota = Var(model.crops, bounds = (0.0, None))\n",
    "\n",
    "#--------------------------constraints-------------------------------\n",
    "def totalAreaConstraint(model):\n",
    "    return summation(model.acresToCrops) <= model.totalArea\n",
    "\n",
    "def productionRequirementConstraint(model, i):\n",
    "    return (model.cropsYielding[i]*model.acresToCrops[i]) + model.cropsPurchased[i]\\\n",
    "         - model.cropsSoldedSubQuota[i] - model.cropsSoldedOverQuota[i] >= model.productionRequirement[i]\n",
    "\n",
    "def quotaConstraint(model, i):\n",
    "    return model.cropsSoldedSubQuota[i] <= model.pricesQuota[i]\n",
    "\n",
    "model.totalAreaConstraint = Constraint(rule = totalAreaConstraint)\n",
    "model.productionRequirementConstraint = Constraint(model.crops, rule = productionRequirementConstraint)\n",
    "model.quotaConstraint = Constraint(model.crops, rule = quotaConstraint)\n",
    "\n",
    "#-----------------------objective function---------------------------\n",
    "#first stage\n",
    "def firstStageCost(model):\n",
    "    return summation(model.plantingCosts, model.acresToCrops)\n",
    "\n",
    "model.firstStageCost = Expression(rule = firstStageCost)\n",
    "\n",
    "#second stage\n",
    "def secondStageCost(model):\n",
    "    e = summation(model.purchasePrices, model.cropsPurchased)\n",
    "    e -= summation(model.sellingPricesSubQuota, model.cropsSoldedSubQuota)\n",
    "    e -= summation(model.sellingPricesOverQuota, model.cropsSoldedOverQuota)\n",
    "    return e\n",
    "\n",
    "model.secondStageCost = Expression(rule = secondStageCost)\n",
    "\n",
    "#total\n",
    "def totalCost(model):\n",
    "    return model.firstStageCost + model.secondStageCost\n",
    "\n",
    "model.totalCost = Objective(rule = totalCost, sense = minimize)"
   ]
  },
  {
   "cell_type": "markdown",
   "metadata": {},
   "source": [
    "We defined data necessary to initialize the abastract model"
   ]
  },
  {
   "cell_type": "code",
   "execution_count": 16,
   "metadata": {},
   "outputs": [],
   "source": [
    "data = {None: {\n",
    "    'crops': {None: ['wheat', 'corn', 'sugar beets']}, \n",
    "    'plantingCosts': {'wheat': 150, 'corn': 230, 'sugar beets': 260}, \n",
    "    'purchasePrices': {'wheat': 238, 'corn': 210, 'sugar beets': 100000},\n",
    "    'sellingPricesSubQuota': {'wheat': 170, 'corn': 150, 'sugar beets': 36},\n",
    "    'sellingPricesOverQuota': {'wheat': 170, 'corn': 150, 'sugar beets': 10},\n",
    "    'totalArea': {None: 500},\n",
    "    'productionRequirement': {'wheat': 200, 'corn': 240, 'sugar beets': 0},\n",
    "    'pricesQuota': {'wheat': 100000, 'corn': 100000, 'sugar beets': 6000},\n",
    "    'cropsYielding': {'wheat': 2.5, 'corn': 3, 'sugar beets': 20}\n",
    "}\n",
    "}"
   ]
  },
  {
   "cell_type": "code",
   "execution_count": 21,
   "metadata": {},
   "outputs": [
    {
     "name": "stdout",
     "output_type": "stream",
     "text": [
      "1 Set Declarations\n",
      "    crops : Size=1, Index=None, Ordered=Insertion\n",
      "        Key  : Dimen : Domain : Size : Members\n",
      "        None :     1 :    Any :    3 : {'wheat', 'corn', 'sugar beets'}\n",
      "\n",
      "8 Param Declarations\n",
      "    cropsYielding : Size=3, Index=crops, Domain=NonNegativeReals, Default=None, Mutable=False\n",
      "        Key         : Value\n",
      "               corn :     3\n",
      "        sugar beets :    20\n",
      "              wheat :   2.5\n",
      "    plantingCosts : Size=3, Index=crops, Domain=PositiveReals, Default=None, Mutable=False\n",
      "        Key         : Value\n",
      "               corn :   230\n",
      "        sugar beets :   260\n",
      "              wheat :   150\n",
      "    pricesQuota : Size=3, Index=crops, Domain=PositiveReals, Default=None, Mutable=False\n",
      "        Key         : Value\n",
      "               corn : 100000\n",
      "        sugar beets :   6000\n",
      "              wheat : 100000\n",
      "    productionRequirement : Size=3, Index=crops, Domain=NonNegativeReals, Default=None, Mutable=False\n",
      "        Key         : Value\n",
      "               corn :   240\n",
      "        sugar beets :     0\n",
      "              wheat :   200\n",
      "    purchasePrices : Size=3, Index=crops, Domain=PositiveReals, Default=None, Mutable=False\n",
      "        Key         : Value\n",
      "               corn :    210\n",
      "        sugar beets : 100000\n",
      "              wheat :    238\n",
      "    sellingPricesOverQuota : Size=3, Index=crops, Domain=Any, Default=None, Mutable=False\n",
      "        Key         : Value\n",
      "               corn :   150\n",
      "        sugar beets :    10\n",
      "              wheat :   170\n",
      "    sellingPricesSubQuota : Size=3, Index=crops, Domain=PositiveReals, Default=None, Mutable=False\n",
      "        Key         : Value\n",
      "               corn :   150\n",
      "        sugar beets :    36\n",
      "              wheat :   170\n",
      "    totalArea : Size=1, Index=None, Domain=PositiveReals, Default=None, Mutable=False\n",
      "        Key  : Value\n",
      "        None :   500\n",
      "\n",
      "4 Var Declarations\n",
      "    acresToCrops : Size=3, Index=crops\n",
      "        Key         : Lower : Value : Upper : Fixed : Stale : Domain\n",
      "               corn :   0.0 :  None :   500 : False :  True :  Reals\n",
      "        sugar beets :   0.0 :  None :   500 : False :  True :  Reals\n",
      "              wheat :   0.0 :  None :   500 : False :  True :  Reals\n",
      "    cropsPurchased : Size=3, Index=crops\n",
      "        Key         : Lower : Value : Upper : Fixed : Stale : Domain\n",
      "               corn :   0.0 :  None :  None : False :  True :  Reals\n",
      "        sugar beets :   0.0 :  None :  None : False :  True :  Reals\n",
      "              wheat :   0.0 :  None :  None : False :  True :  Reals\n",
      "    cropsSoldedOverQuota : Size=3, Index=crops\n",
      "        Key         : Lower : Value : Upper : Fixed : Stale : Domain\n",
      "               corn :   0.0 :  None :  None : False :  True :  Reals\n",
      "        sugar beets :   0.0 :  None :  None : False :  True :  Reals\n",
      "              wheat :   0.0 :  None :  None : False :  True :  Reals\n",
      "    cropsSoldedSubQuota : Size=3, Index=crops\n",
      "        Key         : Lower : Value : Upper : Fixed : Stale : Domain\n",
      "               corn :   0.0 :  None :  None : False :  True :  Reals\n",
      "        sugar beets :   0.0 :  None :  None : False :  True :  Reals\n",
      "              wheat :   0.0 :  None :  None : False :  True :  Reals\n",
      "\n",
      "2 Expression Declarations\n",
      "    firstStageCost : Size=1, Index=None\n",
      "        Key  : Expression\n",
      "        None : 150*acresToCrops[wheat] + 230*acresToCrops[corn] + 260*acresToCrops[sugar beets]\n",
      "    secondStageCost : Size=1, Index=None\n",
      "        Key  : Expression\n",
      "        None : 238*cropsPurchased[wheat] + 210*cropsPurchased[corn] + 100000*cropsPurchased[sugar beets] - (170*cropsSoldedSubQuota[wheat] + 150*cropsSoldedSubQuota[corn] + 36*cropsSoldedSubQuota[sugar beets]) - (170*cropsSoldedOverQuota[wheat] + 150*cropsSoldedOverQuota[corn] + 10*cropsSoldedOverQuota[sugar beets])\n",
      "\n",
      "1 Objective Declarations\n",
      "    totalCost : Size=1, Index=None, Active=True\n",
      "        Key  : Active : Sense    : Expression\n",
      "        None :   True : minimize : (150*acresToCrops[wheat] + 230*acresToCrops[corn] + 260*acresToCrops[sugar beets]) + (238*cropsPurchased[wheat] + 210*cropsPurchased[corn] + 100000*cropsPurchased[sugar beets] - (170*cropsSoldedSubQuota[wheat] + 150*cropsSoldedSubQuota[corn] + 36*cropsSoldedSubQuota[sugar beets]) - (170*cropsSoldedOverQuota[wheat] + 150*cropsSoldedOverQuota[corn] + 10*cropsSoldedOverQuota[sugar beets]))\n",
      "\n",
      "3 Constraint Declarations\n",
      "    productionRequirementConstraint : Size=3, Index=crops, Active=True\n",
      "        Key         : Lower : Body                                                                                                                              : Upper : Active\n",
      "               corn : 240.0 :                              3*acresToCrops[corn] + cropsPurchased[corn] - cropsSoldedSubQuota[corn] - cropsSoldedOverQuota[corn] :  +Inf :   True\n",
      "        sugar beets :   0.0 : 20*acresToCrops[sugar beets] + cropsPurchased[sugar beets] - cropsSoldedSubQuota[sugar beets] - cropsSoldedOverQuota[sugar beets] :  +Inf :   True\n",
      "              wheat : 200.0 :                        2.5*acresToCrops[wheat] + cropsPurchased[wheat] - cropsSoldedSubQuota[wheat] - cropsSoldedOverQuota[wheat] :  +Inf :   True\n",
      "    quotaConstraint : Size=3, Index=crops, Active=True\n",
      "        Key         : Lower : Body                             : Upper    : Active\n",
      "               corn :  -Inf :        cropsSoldedSubQuota[corn] : 100000.0 :   True\n",
      "        sugar beets :  -Inf : cropsSoldedSubQuota[sugar beets] :   6000.0 :   True\n",
      "              wheat :  -Inf :       cropsSoldedSubQuota[wheat] : 100000.0 :   True\n",
      "    totalAreaConstraint : Size=1, Index=None, Active=True\n",
      "        Key  : Lower : Body                                                                 : Upper : Active\n",
      "        None :  -Inf : acresToCrops[wheat] + acresToCrops[corn] + acresToCrops[sugar beets] : 500.0 :   True\n",
      "\n",
      "19 Declarations: crops plantingCosts purchasePrices sellingPricesSubQuota sellingPricesOverQuota totalArea productionRequirement pricesQuota cropsYielding acresToCrops cropsPurchased cropsSoldedSubQuota cropsSoldedOverQuota totalAreaConstraint productionRequirementConstraint quotaConstraint firstStageCost secondStageCost totalCost\n"
     ]
    }
   ],
   "source": [
    "istance = model.create_instance(data=data)\n",
    "istance.pprint()"
   ]
  },
  {
   "cell_type": "markdown",
   "metadata": {},
   "source": [
    "We solve the model using the glpk solver"
   ]
  },
  {
   "cell_type": "code",
   "execution_count": 39,
   "metadata": {},
   "outputs": [
    {
     "data": {
      "text/plain": [
       "{'Problem': [{'Lower bound': -inf, 'Upper bound': inf, 'Number of objectives': 1, 'Number of constraints': 7, 'Number of variables': 12, 'Sense': 'unknown'}], 'Solver': [{'Status': 'ok', 'Message': 'CPLEX 20.1.0.0\\\\x3a optimal solution; objective -118600; 7 dual simplex iterations (5 in phase I)', 'Termination condition': 'optimal', 'Id': 0}], 'Solution': [OrderedDict([('number of solutions', 0), ('number of solutions displayed', 0)])]}"
      ]
     },
     "execution_count": 39,
     "metadata": {},
     "output_type": "execute_result"
    }
   ],
   "source": [
    "import os\n",
    "\n",
    "os.environ['NEOS_EMAIL'] = 'marco.scatassi.99@gmail.com' \n",
    "\n",
    "opt = SolverManagerFactory('neos')opt.solve(istance, solver = 'cplex')"
   ]
  },
  {
   "cell_type": "code",
   "execution_count": 54,
   "metadata": {},
   "outputs": [
    {
     "name": "stdout",
     "output_type": "stream",
     "text": [
      "Model unknown\n",
      "\n",
      "  Variables:\n",
      "    acresToCrops : Size=3, Index=crops\n",
      "        Key         : Lower : Value : Upper : Fixed : Stale : Domain\n",
      "               corn :   0.0 :  80.0 :   500 : False : False :  Reals\n",
      "        sugar beets :   0.0 : 300.0 :   500 : False : False :  Reals\n",
      "              wheat :   0.0 : 120.0 :   500 : False : False :  Reals\n",
      "    cropsPurchased : Size=3, Index=crops\n",
      "        Key         : Lower : Value : Upper : Fixed : Stale : Domain\n",
      "               corn :   0.0 :   0.0 :  None : False : False :  Reals\n",
      "        sugar beets :   0.0 :   0.0 :  None : False : False :  Reals\n",
      "              wheat :   0.0 :   0.0 :  None : False : False :  Reals\n",
      "    cropsSoldedSubQuota : Size=3, Index=crops\n",
      "        Key         : Lower : Value  : Upper : Fixed : Stale : Domain\n",
      "               corn :   0.0 :    0.0 :  None : False : False :  Reals\n",
      "        sugar beets :   0.0 : 6000.0 :  None : False : False :  Reals\n",
      "              wheat :   0.0 :    0.0 :  None : False : False :  Reals\n",
      "    cropsSoldedOverQuota : Size=3, Index=crops\n",
      "        Key         : Lower : Value : Upper : Fixed : Stale : Domain\n",
      "               corn :   0.0 :   0.0 :  None : False : False :  Reals\n",
      "        sugar beets :   0.0 :   0.0 :  None : False : False :  Reals\n",
      "              wheat :   0.0 : 100.0 :  None : False : False :  Reals\n",
      "\n",
      "  Objectives:\n",
      "    totalCost : Size=1, Index=None, Active=True\n",
      "        Key  : Active : Value\n",
      "        None :   True : -118600.0\n",
      "\n",
      "  Constraints:\n",
      "    totalAreaConstraint : Size=1\n",
      "        Key  : Lower : Body  : Upper\n",
      "        None :  None : 500.0 : 500.0\n",
      "    productionRequirementConstraint : Size=3\n",
      "        Key         : Lower : Body  : Upper\n",
      "               corn : 240.0 : 240.0 :  None\n",
      "        sugar beets :   0.0 :   0.0 :  None\n",
      "              wheat : 200.0 : 200.0 :  None\n",
      "    quotaConstraint : Size=3\n",
      "        Key         : Lower : Body   : Upper\n",
      "               corn :  None :    0.0 : 100000.0\n",
      "        sugar beets :  None : 6000.0 :   6000.0\n",
      "              wheat :  None :    0.0 : 100000.0\n"
     ]
    }
   ],
   "source": [
    "istance.display()"
   ]
  }
 ],
 "metadata": {
  "kernelspec": {
   "display_name": "Python 3.10.7 64-bit",
   "language": "python",
   "name": "python3"
  },
  "language_info": {
   "codemirror_mode": {
    "name": "ipython",
    "version": 3
   },
   "file_extension": ".py",
   "mimetype": "text/x-python",
   "name": "python",
   "nbconvert_exporter": "python",
   "pygments_lexer": "ipython3",
   "version": "3.10.7"
  },
  "orig_nbformat": 4,
  "vscode": {
   "interpreter": {
    "hash": "af153e239d61b5c0d363f35fe8a0509d492506f382d017c98fa3fb49fce70a72"
   }
  }
 },
 "nbformat": 4,
 "nbformat_minor": 2
}
