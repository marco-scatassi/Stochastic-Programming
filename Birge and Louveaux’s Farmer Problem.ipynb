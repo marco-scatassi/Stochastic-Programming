{
 "cells": [
  {
   "cell_type": "markdown",
   "metadata": {},
   "source": [
    "# Birge and Louveaux’s Farmer Problem"
   ]
  },
  {
   "cell_type": "markdown",
   "metadata": {},
   "source": [
    "Birge and Louveaux [BirgeLouveauxBook] make use of the example of a farmer who has 500 acres that can be planted in wheat, corn or sugar beets, at a per acre cost of 150, 230 and 260 (Euros, presumably), respectively. The farmer needs to have at least 200 tons of wheat and 240 tons of corn to use as feed, but if enough is not grown, those crops can be purchased for 238 and 210, respectively. Corn and wheat grown in excess of the feed requirements can be sold for 170 and 150, respectively. A price of 36 per ton is guaranteed for the first 6000 tons grown by any farmer, but beets in excess of that are sold for 10 per ton. The yield is 2.5, 3, and 20 tons per acre for wheat, corn and sugar beets, respectively. (description taken from https://pysp.readthedocs.io/en/latest/pysp.html#birge-and-louveaux-s-farmer-problem)"
   ]
  },
  {
   "cell_type": "markdown",
   "metadata": {},
   "source": [
    "![Farmers data](farmers_data.png \"\")"
   ]
  },
  {
   "cell_type": "markdown",
   "metadata": {},
   "source": [
    "## Abstract model definition"
   ]
  },
  {
   "cell_type": "markdown",
   "metadata": {},
   "source": [
    "We define the abastract model containig the specification of the model in a parametric form"
   ]
  },
  {
   "cell_type": "code",
   "execution_count": 1,
   "metadata": {},
   "outputs": [],
   "source": [
    "import pyomo.environ as pyo"
   ]
  },
  {
   "cell_type": "code",
   "execution_count": 3,
   "metadata": {},
   "outputs": [],
   "source": [
    "from pyomo.environ import *\n",
    "#-------------------------abastract model----------------------------\n",
    "model = pyo.AbstractModel()\n",
    "\n",
    "#---------------------------index sets-------------------------------\n",
    "model.crops = Set()\n",
    "\n",
    "#---------------------------parameters-------------------------------\n",
    "#objective function\n",
    "model.plantingCosts = Param(model.crops, within = PositiveReals)\n",
    "model.purchasePrices = Param(model.crops, within = PositiveReals)\n",
    "model.sellingPricesSubQuota = Param(model.crops, within = PositiveReals)\n",
    "\n",
    "def sellingQuotaPricesValidation(model, value, i):\n",
    "    return model.sellingPricesSubQuota[i] >= model.sellingPricesOverQuota[i]\n",
    "\n",
    "model.sellingPricesOverQuota = Param(model.crops, validate = sellingQuotaPricesValidation)\n",
    "\n",
    "#constraints\n",
    "model.totalArea = Param(within = PositiveReals)\n",
    "model.productionRequirement = Param(model.crops, within = NonNegativeReals)\n",
    "model.pricesQuota = Param(model.crops, within = PositiveReals)\n",
    "model.cropsYielding = Param(model.crops, within = NonNegativeReals)\n",
    "\n",
    "#---------------------------variables--------------------------------\n",
    "model.acresToCrops = Var(model.crops, bounds = (0.0, model.totalArea))\n",
    "model.cropsPurchased = Var(model.crops, bounds = (0.0, None))\n",
    "model.cropsSoldedSubQuota = Var(model.crops, bounds = (0.0, None))\n",
    "model.cropsSoldedOverQuota = Var(model.crops, bounds = (0.0, None))\n",
    "\n",
    "#--------------------------constraints-------------------------------\n",
    "def totalAreaConstraint(model):\n",
    "    return summation(model.acresToCrops) <= model.totalArea\n",
    "\n",
    "def productionRequirementConstraint(model, i):\n",
    "    return (model.cropsYielding[i]*model.acresToCrops[i]) + model.cropsPurchased[i]\\\n",
    "         - model.cropsSoldedSubQuota[i] - model.cropsSoldedOverQuota[i] >= model.productionRequirement[i]\n",
    "\n",
    "def quotaConstraint(model, i):\n",
    "    return model.cropsSoldedSubQuota[i] <= model.pricesQuota[i]\n",
    "\n",
    "model.totalAreaConstraint = Constraint(rule = totalAreaConstraint)\n",
    "model.productionRequirementConstraint = Constraint(model.crops, rule = productionRequirementConstraint)\n",
    "model.quotaConstraint = Constraint(model.crops, rule = quotaConstraint)\n",
    "\n",
    "#-----------------------objective function---------------------------\n",
    "#first stage\n",
    "def firstStageCost(model):\n",
    "    return summation(model.plantingCosts, model.acresToCrops)\n",
    "\n",
    "model.firstStageCost = Expression(rule = firstStageCost)\n",
    "\n",
    "#second stage\n",
    "def secondStageCost(model):\n",
    "    e = summation(model.purchasePrices, model.cropsPurchased)\n",
    "    e -= summation(model.sellingPricesSubQuota, model.cropsSoldedSubQuota)\n",
    "    e -= summation(model.sellingPricesOverQuota, model.cropsSoldedOverQuota)\n",
    "    return e\n",
    "\n",
    "model.secondStageCost = Expression(rule = secondStageCost)\n",
    "\n",
    "#total\n",
    "def totalCost(model):\n",
    "    return model.firstStageCost + model.secondStageCost\n",
    "\n",
    "model.totalCost = Objective(rule = totalCost, sense = minimize)"
   ]
  },
  {
   "cell_type": "markdown",
   "metadata": {},
   "source": [
    "## Data initialization"
   ]
  },
  {
   "cell_type": "markdown",
   "metadata": {},
   "source": [
    "We defined data necessary to initialize the abastract model"
   ]
  },
  {
   "cell_type": "code",
   "execution_count": 5,
   "metadata": {},
   "outputs": [],
   "source": [
    "data = {None: {\n",
    "    'crops': {None: ['wheat', 'corn', 'sugar beets']}, \n",
    "    'plantingCosts': {'wheat': 150, 'corn': 230, 'sugar beets': 260}, \n",
    "    'purchasePrices': {'wheat': 238, 'corn': 210, 'sugar beets': 100000},\n",
    "    'sellingPricesSubQuota': {'wheat': 170, 'corn': 150, 'sugar beets': 36},\n",
    "    'sellingPricesOverQuota': {'wheat': 170, 'corn': 150, 'sugar beets': 10},\n",
    "    'totalArea': {None: 500},\n",
    "    'productionRequirement': {'wheat': 200, 'corn': 240, 'sugar beets': 0},\n",
    "    'pricesQuota': {'wheat': 100000, 'corn': 100000, 'sugar beets': 6000},\n",
    "    'cropsYielding': {'wheat': 2.5, 'corn': 3, 'sugar beets': 20}\n",
    "}\n",
    "}"
   ]
  },
  {
   "cell_type": "markdown",
   "metadata": {},
   "source": [
    "## Istance creation"
   ]
  },
  {
   "cell_type": "code",
   "execution_count": 6,
   "metadata": {},
   "outputs": [
    {
     "name": "stdout",
     "output_type": "stream",
     "text": [
      "1 Set Declarations\n",
      "    crops : Size=1, Index=None, Ordered=Insertion\n",
      "        Key  : Dimen : Domain : Size : Members\n",
      "        None :     1 :    Any :    3 : {'wheat', 'corn', 'sugar beets'}\n",
      "\n",
      "8 Param Declarations\n",
      "    cropsYielding : Size=3, Index=crops, Domain=NonNegativeReals, Default=None, Mutable=False\n",
      "        Key         : Value\n",
      "               corn :     3\n",
      "        sugar beets :    20\n",
      "              wheat :   2.5\n",
      "    plantingCosts : Size=3, Index=crops, Domain=PositiveReals, Default=None, Mutable=False\n",
      "        Key         : Value\n",
      "               corn :   230\n",
      "        sugar beets :   260\n",
      "              wheat :   150\n",
      "    pricesQuota : Size=3, Index=crops, Domain=PositiveReals, Default=None, Mutable=False\n",
      "        Key         : Value\n",
      "               corn : 100000\n",
      "        sugar beets :   6000\n",
      "              wheat : 100000\n",
      "    productionRequirement : Size=3, Index=crops, Domain=NonNegativeReals, Default=None, Mutable=False\n",
      "        Key         : Value\n",
      "               corn :   240\n",
      "        sugar beets :     0\n",
      "              wheat :   200\n",
      "    purchasePrices : Size=3, Index=crops, Domain=PositiveReals, Default=None, Mutable=False\n",
      "        Key         : Value\n",
      "               corn :    210\n",
      "        sugar beets : 100000\n",
      "              wheat :    238\n",
      "    sellingPricesOverQuota : Size=3, Index=crops, Domain=Any, Default=None, Mutable=False\n",
      "        Key         : Value\n",
      "               corn :   150\n",
      "        sugar beets :    10\n",
      "              wheat :   170\n",
      "    sellingPricesSubQuota : Size=3, Index=crops, Domain=PositiveReals, Default=None, Mutable=False\n",
      "        Key         : Value\n",
      "               corn :   150\n",
      "        sugar beets :    36\n",
      "              wheat :   170\n",
      "    totalArea : Size=1, Index=None, Domain=PositiveReals, Default=None, Mutable=False\n",
      "        Key  : Value\n",
      "        None :   500\n",
      "\n",
      "4 Var Declarations\n",
      "    acresToCrops : Size=3, Index=crops\n",
      "        Key         : Lower : Value : Upper : Fixed : Stale : Domain\n",
      "               corn :   0.0 :  None :   500 : False :  True :  Reals\n",
      "        sugar beets :   0.0 :  None :   500 : False :  True :  Reals\n",
      "              wheat :   0.0 :  None :   500 : False :  True :  Reals\n",
      "    cropsPurchased : Size=3, Index=crops\n",
      "        Key         : Lower : Value : Upper : Fixed : Stale : Domain\n",
      "               corn :   0.0 :  None :  None : False :  True :  Reals\n",
      "        sugar beets :   0.0 :  None :  None : False :  True :  Reals\n",
      "              wheat :   0.0 :  None :  None : False :  True :  Reals\n",
      "    cropsSoldedOverQuota : Size=3, Index=crops\n",
      "        Key         : Lower : Value : Upper : Fixed : Stale : Domain\n",
      "               corn :   0.0 :  None :  None : False :  True :  Reals\n",
      "        sugar beets :   0.0 :  None :  None : False :  True :  Reals\n",
      "              wheat :   0.0 :  None :  None : False :  True :  Reals\n",
      "    cropsSoldedSubQuota : Size=3, Index=crops\n",
      "        Key         : Lower : Value : Upper : Fixed : Stale : Domain\n",
      "               corn :   0.0 :  None :  None : False :  True :  Reals\n",
      "        sugar beets :   0.0 :  None :  None : False :  True :  Reals\n",
      "              wheat :   0.0 :  None :  None : False :  True :  Reals\n",
      "\n",
      "2 Expression Declarations\n",
      "    firstStageCost : Size=1, Index=None\n",
      "        Key  : Expression\n",
      "        None : 150*acresToCrops[wheat] + 230*acresToCrops[corn] + 260*acresToCrops[sugar beets]\n",
      "    secondStageCost : Size=1, Index=None\n",
      "        Key  : Expression\n",
      "        None : 238*cropsPurchased[wheat] + 210*cropsPurchased[corn] + 100000*cropsPurchased[sugar beets] - (170*cropsSoldedSubQuota[wheat] + 150*cropsSoldedSubQuota[corn] + 36*cropsSoldedSubQuota[sugar beets]) - (170*cropsSoldedOverQuota[wheat] + 150*cropsSoldedOverQuota[corn] + 10*cropsSoldedOverQuota[sugar beets])\n",
      "\n",
      "1 Objective Declarations\n",
      "    totalCost : Size=1, Index=None, Active=True\n",
      "        Key  : Active : Sense    : Expression\n",
      "        None :   True : minimize : (150*acresToCrops[wheat] + 230*acresToCrops[corn] + 260*acresToCrops[sugar beets]) + (238*cropsPurchased[wheat] + 210*cropsPurchased[corn] + 100000*cropsPurchased[sugar beets] - (170*cropsSoldedSubQuota[wheat] + 150*cropsSoldedSubQuota[corn] + 36*cropsSoldedSubQuota[sugar beets]) - (170*cropsSoldedOverQuota[wheat] + 150*cropsSoldedOverQuota[corn] + 10*cropsSoldedOverQuota[sugar beets]))\n",
      "\n",
      "3 Constraint Declarations\n",
      "    productionRequirementConstraint : Size=3, Index=crops, Active=True\n",
      "        Key         : Lower : Body                                                                                                                              : Upper : Active\n",
      "               corn : 240.0 :                              3*acresToCrops[corn] + cropsPurchased[corn] - cropsSoldedSubQuota[corn] - cropsSoldedOverQuota[corn] :  +Inf :   True\n",
      "        sugar beets :   0.0 : 20*acresToCrops[sugar beets] + cropsPurchased[sugar beets] - cropsSoldedSubQuota[sugar beets] - cropsSoldedOverQuota[sugar beets] :  +Inf :   True\n",
      "              wheat : 200.0 :                        2.5*acresToCrops[wheat] + cropsPurchased[wheat] - cropsSoldedSubQuota[wheat] - cropsSoldedOverQuota[wheat] :  +Inf :   True\n",
      "    quotaConstraint : Size=3, Index=crops, Active=True\n",
      "        Key         : Lower : Body                             : Upper    : Active\n",
      "               corn :  -Inf :        cropsSoldedSubQuota[corn] : 100000.0 :   True\n",
      "        sugar beets :  -Inf : cropsSoldedSubQuota[sugar beets] :   6000.0 :   True\n",
      "              wheat :  -Inf :       cropsSoldedSubQuota[wheat] : 100000.0 :   True\n",
      "    totalAreaConstraint : Size=1, Index=None, Active=True\n",
      "        Key  : Lower : Body                                                                 : Upper : Active\n",
      "        None :  -Inf : acresToCrops[wheat] + acresToCrops[corn] + acresToCrops[sugar beets] : 500.0 :   True\n",
      "\n",
      "19 Declarations: crops plantingCosts purchasePrices sellingPricesSubQuota sellingPricesOverQuota totalArea productionRequirement pricesQuota cropsYielding acresToCrops cropsPurchased cropsSoldedSubQuota cropsSoldedOverQuota totalAreaConstraint productionRequirementConstraint quotaConstraint firstStageCost secondStageCost totalCost\n"
     ]
    }
   ],
   "source": [
    "istance = model.create_instance(data=data)\n",
    "istance.pprint()"
   ]
  },
  {
   "cell_type": "markdown",
   "metadata": {},
   "source": [
    "## Deterministic problem solution"
   ]
  },
  {
   "cell_type": "markdown",
   "metadata": {},
   "source": [
    "We solve the model using the cplex solver"
   ]
  },
  {
   "cell_type": "code",
   "execution_count": 8,
   "metadata": {},
   "outputs": [
    {
     "data": {
      "text/plain": [
       "{'Problem': [{'Name': '', 'Lower bound': -118600.0, 'Upper bound': -118600.0, 'Number of objectives': 1, 'Number of constraints': 7, 'Number of variables': 12, 'Number of binary variables': 0, 'Number of integer variables': 0, 'Number of continuous variables': 12, 'Number of nonzeros': None, 'Sense': 1}], 'Solver': [{'Name': 'CPLEX 22.1.0.0', 'Status': 'ok', 'Wallclock time': 0.00099945068359375, 'Termination condition': 'optimal'}], 'Solution': [OrderedDict([('number of solutions', 0), ('number of solutions displayed', 0)])]}"
      ]
     },
     "execution_count": 8,
     "metadata": {},
     "output_type": "execute_result"
    }
   ],
   "source": [
    "opt = SolverFactory('cplex_direct')\n",
    "opt.solve(istance)"
   ]
  },
  {
   "cell_type": "markdown",
   "metadata": {},
   "source": [
    "We can analize results using the display methods"
   ]
  },
  {
   "cell_type": "code",
   "execution_count": 9,
   "metadata": {},
   "outputs": [
    {
     "name": "stdout",
     "output_type": "stream",
     "text": [
      "Model unknown\n",
      "\n",
      "  Variables:\n",
      "    acresToCrops : Size=3, Index=crops\n",
      "        Key         : Lower : Value : Upper : Fixed : Stale : Domain\n",
      "               corn :   0.0 :  80.0 :   500 : False : False :  Reals\n",
      "        sugar beets :   0.0 : 300.0 :   500 : False : False :  Reals\n",
      "              wheat :   0.0 : 120.0 :   500 : False : False :  Reals\n",
      "    cropsPurchased : Size=3, Index=crops\n",
      "        Key         : Lower : Value : Upper : Fixed : Stale : Domain\n",
      "               corn :   0.0 :   0.0 :  None : False : False :  Reals\n",
      "        sugar beets :   0.0 :   0.0 :  None : False : False :  Reals\n",
      "              wheat :   0.0 :   0.0 :  None : False : False :  Reals\n",
      "    cropsSoldedSubQuota : Size=3, Index=crops\n",
      "        Key         : Lower : Value  : Upper : Fixed : Stale : Domain\n",
      "               corn :   0.0 :    0.0 :  None : False : False :  Reals\n",
      "        sugar beets :   0.0 : 6000.0 :  None : False : False :  Reals\n",
      "              wheat :   0.0 :    0.0 :  None : False : False :  Reals\n",
      "    cropsSoldedOverQuota : Size=3, Index=crops\n",
      "        Key         : Lower : Value : Upper : Fixed : Stale : Domain\n",
      "               corn :   0.0 :   0.0 :  None : False : False :  Reals\n",
      "        sugar beets :   0.0 :   0.0 :  None : False : False :  Reals\n",
      "              wheat :   0.0 : 100.0 :  None : False : False :  Reals\n",
      "\n",
      "  Objectives:\n",
      "    totalCost : Size=1, Index=None, Active=True\n",
      "        Key  : Active : Value\n",
      "        None :   True : -118600.0\n",
      "\n",
      "  Constraints:\n",
      "    totalAreaConstraint : Size=1\n",
      "        Key  : Lower : Body  : Upper\n",
      "        None :  None : 500.0 : 500.0\n",
      "    productionRequirementConstraint : Size=3\n",
      "        Key         : Lower : Body  : Upper\n",
      "               corn : 240.0 : 240.0 :  None\n",
      "        sugar beets :   0.0 :   0.0 :  None\n",
      "              wheat : 200.0 : 200.0 :  None\n",
      "    quotaConstraint : Size=3\n",
      "        Key         : Lower : Body   : Upper\n",
      "               corn :  None :    0.0 : 100000.0\n",
      "        sugar beets :  None : 6000.0 :   6000.0\n",
      "              wheat :  None :    0.0 : 100000.0\n"
     ]
    }
   ],
   "source": [
    "istance.display()"
   ]
  },
  {
   "cell_type": "markdown",
   "metadata": {},
   "source": [
    "## Stochastic problem solution"
   ]
  },
  {
   "cell_type": "markdown",
   "metadata": {},
   "source": [
    "In order to use mpi-sppy library to solve the stochastic problem, we define a function that take as argument the value of parameters that change over different scenarios and build an istance of the abstract model"
   ]
  },
  {
   "cell_type": "code",
   "execution_count": 10,
   "metadata": {},
   "outputs": [],
   "source": [
    "def build_model(yields):\n",
    "    data = {None: {\n",
    "    'crops': {None: ['wheat', 'corn', 'sugar beets']}, \n",
    "    'plantingCosts': {'wheat': 150, 'corn': 230, 'sugar beets': 260}, \n",
    "    'purchasePrices': {'wheat': 238, 'corn': 210, 'sugar beets': 100000},\n",
    "    'sellingPricesSubQuota': {'wheat': 170, 'corn': 150, 'sugar beets': 36},\n",
    "    'sellingPricesOverQuota': {'wheat': 170, 'corn': 150, 'sugar beets': 10},\n",
    "    'totalArea': {None: 500},\n",
    "    'productionRequirement': {'wheat': 200, 'corn': 240, 'sugar beets': 0},\n",
    "    'pricesQuota': {'wheat': 100000, 'corn': 100000, 'sugar beets': 6000},\n",
    "    'cropsYielding': {'wheat': yields['wheat'], 'corn': yields['corn'], 'sugar beets': yields['sugar beets']}\n",
    "    }}\n",
    "\n",
    "    istance = model.create_instance(data=data)\n",
    "    return istance"
   ]
  },
  {
   "cell_type": "markdown",
   "metadata": {},
   "source": [
    "We assume, as in the original problem, three different scenarios. Then, we create a function able to generate those scenarios"
   ]
  },
  {
   "cell_type": "code",
   "execution_count": 11,
   "metadata": {},
   "outputs": [
    {
     "name": "stdout",
     "output_type": "stream",
     "text": [
      "[    0.00] Initializing mpi-sppy\n"
     ]
    }
   ],
   "source": [
    "import mpisppy.utils.sputils as sputils\n",
    "\n",
    "def scenario_creator(scenario_name):\n",
    "    if scenario_name == \"good\":\n",
    "        yields = {'wheat': 3, 'corn': 3.6, 'sugar beets': 24}\n",
    "    elif scenario_name == \"average\":\n",
    "        yields = {'wheat': 2.5, 'corn': 3, 'sugar beets': 20}\n",
    "    elif scenario_name == \"bad\":\n",
    "        yields = {'wheat': 2, 'corn': 2.4, 'sugar beets': 16}\n",
    "    else:\n",
    "        raise ValueError(\"Unrecognized scenario name\")\n",
    "\n",
    "    istance= build_model(yields)\n",
    "\n",
    "    #we specify which part of the objective function and which set of variables\n",
    "    #belong to the first stage of the problem\n",
    "    sputils.attach_root_node(istance, istance.plantingCosts, [istance.acresToCrops])\n",
    "    istance._mpisppy_probability = 1.0 / 3\n",
    "    return istance"
   ]
  },
  {
   "cell_type": "markdown",
   "metadata": {},
   "source": [
    "### Solving the extensive form"
   ]
  },
  {
   "cell_type": "code",
   "execution_count": 12,
   "metadata": {},
   "outputs": [
    {
     "name": "stdout",
     "output_type": "stream",
     "text": [
      "[    3.39] Initializing SPBase\n",
      "-108389.99999999999\n",
      "acresToCrops[corn] 80.0\n",
      "acresToCrops[sugar beets] 250.0\n",
      "acresToCrops[wheat] 170.0\n"
     ]
    }
   ],
   "source": [
    "from mpisppy.opt.ef import ExtensiveForm\n",
    "\n",
    "options = {\"solver\": \"cplex_direct\"}\n",
    "all_scenario_names = [\"good\", \"average\", \"bad\"]\n",
    "ef = ExtensiveForm(options, all_scenario_names, scenario_creator)\n",
    "results = ef.solve_extensive_form()\n",
    "\n",
    "objval = ef.get_objective_value()\n",
    "print(objval)\n",
    "\n",
    "soln = ef.get_root_solution()\n",
    "for (var_name, var_val) in soln.items():\n",
    "    print(var_name, var_val)"
   ]
  },
  {
   "cell_type": "markdown",
   "metadata": {},
   "source": [
    "### Resolving using PH (Progressive Hedging)"
   ]
  },
  {
   "cell_type": "code",
   "execution_count": 42,
   "metadata": {},
   "outputs": [
    {
     "name": "stdout",
     "output_type": "stream",
     "text": [
      "[14976.23] Initializing SPBase\n",
      "[14976.26] Initializing PHBase\n"
     ]
    }
   ],
   "source": [
    "from mpisppy.opt.ph import PH\n",
    "\n",
    "options = {\n",
    "    \"solvername\": \"cplex_persistent\",\n",
    "    \"PHIterLimit\": 200,\n",
    "    \"defaultPHrho\": 10,\n",
    "    \"convthresh\": 1e-9,\n",
    "    \"verbose\": False,\n",
    "    \"display_progress\": False,\n",
    "    \"display_timing\": False,\n",
    "    \"iter0_solver_options\": dict(),\n",
    "    \"iterk_solver_options\": dict(),\n",
    "}\n",
    "all_scenario_names = [\"good\", \"average\", \"bad\"]\n",
    "ph = PH(\n",
    "    options,\n",
    "    all_scenario_names,\n",
    "    scenario_creator,\n",
    ")"
   ]
  },
  {
   "cell_type": "code",
   "execution_count": 43,
   "metadata": {},
   "outputs": [
    {
     "name": "stdout",
     "output_type": "stream",
     "text": [
      "[14979.00] Creating solvers\n",
      "[14979.03] Entering solve loop in PHBase.Iter0\n",
      "[14987.02] Reached user-specified limit=200 on number of PH iterations\n"
     ]
    },
    {
     "data": {
      "text/plain": [
       "(6.260371318628838e-07, -108389.99946897829, -115405.55555555552)"
      ]
     },
     "execution_count": 43,
     "metadata": {},
     "output_type": "execute_result"
    }
   ],
   "source": [
    "ph.ph_main()"
   ]
  },
  {
   "cell_type": "code",
   "execution_count": 44,
   "metadata": {},
   "outputs": [
    {
     "name": "stdout",
     "output_type": "stream",
     "text": [
      "                          |  average      bad        good    \n",
      "acresToCrops[corn]        |    80.0000    80.0000    80.0000 \n",
      "acresToCrops[sugar beets] |   250.0000   250.0000   250.0000 \n",
      "acresToCrops[wheat]       |   170.0000   170.0000   170.0000 \n"
     ]
    }
   ],
   "source": [
    "ph.report_var_values_at_rank0()"
   ]
  },
  {
   "cell_type": "markdown",
   "metadata": {},
   "source": [
    "# Solution evaluation"
   ]
  },
  {
   "cell_type": "markdown",
   "metadata": {},
   "source": [
    "We can evaluate the solution of a stochastic program problem by comparing it with other relevant quantities. In particular, we define:\n",
    "\n",
    "- **WS** (wait and see) solution as: \n",
    "\n",
    "$$ WS = E_{\\xi}[min_{x}z(x,\\xi)] $$\n",
    "\n",
    "- **RP** (recourse procedure) solution as:\n",
    "\n",
    "$$ RP = min_{x}E_{\\xi}z(x,\\xi) $$\n",
    "\n",
    "- **EV** (expected value problem) solution as:\n",
    "\n",
    "$$ EV = min_{x}E_{\\xi}z(x, \\bar{\\xi}) $$\n",
    "\n",
    "- **EEV** (expectation of the expected solutions) as:\n",
    "\n",
    "$$ E_{\\xi}[z(\\bar{x}(\\bar{\\xi}),\\xi)] $$\n",
    "\n",
    "with $ \\bar{x}(\\bar{\\xi}) $ is a solution of $ min_{x}E_{\\xi}z(x, \\bar{\\xi}) $ "
   ]
  },
  {
   "cell_type": "markdown",
   "metadata": {},
   "source": [
    "From the previous one can define:\n",
    "\n",
    "- **EVPI** (expected value of perfect information) as:\n",
    "\n",
    "$$ EVPI = RP - WS $$\n",
    "\n",
    "- **VSS** (value of stochastic solution) as:\n",
    "\n",
    "$$ VSS = EEV - RP $$"
   ]
  },
  {
   "cell_type": "markdown",
   "metadata": {},
   "source": [
    "The value of the **RP** solution has been previously compute"
   ]
  },
  {
   "cell_type": "code",
   "execution_count": 109,
   "metadata": {},
   "outputs": [
    {
     "name": "stdout",
     "output_type": "stream",
     "text": [
      "RP : -108389.999\n"
     ]
    }
   ],
   "source": [
    "RP = ph.Eobjective()\n",
    "print(\"RP : \" + str(round(RP,3)))"
   ]
  },
  {
   "cell_type": "markdown",
   "metadata": {},
   "source": [
    "In order to determine the value of the **WS** solution we have to solve a deterministic problem for each scenario (the idea is that we know beforehand what returns will be) and then take the mean value. We recall that the three scenarios are:"
   ]
  },
  {
   "cell_type": "markdown",
   "metadata": {},
   "source": [
    "|| Wheat (T)   | Corn (T)     | Sugar beets (T)  |\n",
    "|---| :---------: | :--------: | :-------------: |\n",
    "|good|     3     |   3.6    |       24      |\n",
    "|average|    2.5    |    3     |       20      |\n",
    "|bad|     2     |   2.4    |       16      |"
   ]
  },
  {
   "cell_type": "markdown",
   "metadata": {},
   "source": [
    "We choose the solver"
   ]
  },
  {
   "cell_type": "code",
   "execution_count": 110,
   "metadata": {},
   "outputs": [],
   "source": [
    "opt = SolverFactory('cplex_direct')"
   ]
  },
  {
   "cell_type": "markdown",
   "metadata": {},
   "source": [
    "We solve the problem in the three different scenarios"
   ]
  },
  {
   "cell_type": "code",
   "execution_count": 111,
   "metadata": {},
   "outputs": [
    {
     "data": {
      "text/plain": [
       "{'Problem': [{'Name': '', 'Lower bound': -167666.66666666666, 'Upper bound': -167666.66666666666, 'Number of objectives': 1, 'Number of constraints': 7, 'Number of variables': 12, 'Number of binary variables': 0, 'Number of integer variables': 0, 'Number of continuous variables': 12, 'Number of nonzeros': None, 'Sense': 1}], 'Solver': [{'Name': 'CPLEX 22.1.0.0', 'Status': 'ok', 'Wallclock time': 0.0009996891021728516, 'Termination condition': 'optimal'}], 'Solution': [OrderedDict([('number of solutions', 0), ('number of solutions displayed', 0)])]}"
      ]
     },
     "execution_count": 111,
     "metadata": {},
     "output_type": "execute_result"
    }
   ],
   "source": [
    "istanceGood = build_model({'wheat': 3, 'corn': 3.6, 'sugar beets': 24})\n",
    "opt.solve(istanceGood)"
   ]
  },
  {
   "cell_type": "code",
   "execution_count": 112,
   "metadata": {},
   "outputs": [],
   "source": [
    "WSGood = istanceGood.totalCost()"
   ]
  },
  {
   "cell_type": "code",
   "execution_count": 113,
   "metadata": {},
   "outputs": [
    {
     "data": {
      "text/plain": [
       "{'Problem': [{'Name': '', 'Lower bound': -118600.0, 'Upper bound': -118600.0, 'Number of objectives': 1, 'Number of constraints': 7, 'Number of variables': 12, 'Number of binary variables': 0, 'Number of integer variables': 0, 'Number of continuous variables': 12, 'Number of nonzeros': None, 'Sense': 1}], 'Solver': [{'Name': 'CPLEX 22.1.0.0', 'Status': 'ok', 'Wallclock time': 0.000985860824584961, 'Termination condition': 'optimal'}], 'Solution': [OrderedDict([('number of solutions', 0), ('number of solutions displayed', 0)])]}"
      ]
     },
     "execution_count": 113,
     "metadata": {},
     "output_type": "execute_result"
    }
   ],
   "source": [
    "istanceAverage = build_model({'wheat': 2.5, 'corn': 3, 'sugar beets': 20})\n",
    "opt.solve(istanceAverage)"
   ]
  },
  {
   "cell_type": "code",
   "execution_count": 114,
   "metadata": {},
   "outputs": [],
   "source": [
    "WSAverage = istanceAverage.totalCost()"
   ]
  },
  {
   "cell_type": "code",
   "execution_count": 117,
   "metadata": {},
   "outputs": [
    {
     "data": {
      "text/plain": [
       "{'Problem': [{'Name': '', 'Lower bound': -59950.0, 'Upper bound': -59950.0, 'Number of objectives': 1, 'Number of constraints': 7, 'Number of variables': 12, 'Number of binary variables': 0, 'Number of integer variables': 0, 'Number of continuous variables': 12, 'Number of nonzeros': None, 'Sense': 1}], 'Solver': [{'Name': 'CPLEX 22.1.0.0', 'Status': 'ok', 'Wallclock time': 0.0010292530059814453, 'Termination condition': 'optimal'}], 'Solution': [OrderedDict([('number of solutions', 0), ('number of solutions displayed', 0)])]}"
      ]
     },
     "execution_count": 117,
     "metadata": {},
     "output_type": "execute_result"
    }
   ],
   "source": [
    "istanceBad = build_model({'wheat': 2, 'corn': 2.4, 'sugar beets': 16})\n",
    "opt.solve(istanceBad)"
   ]
  },
  {
   "cell_type": "code",
   "execution_count": 118,
   "metadata": {},
   "outputs": [],
   "source": [
    "WSBad = istanceBad.totalCost()"
   ]
  },
  {
   "cell_type": "markdown",
   "metadata": {},
   "source": [
    "So we can compute the **WS** solution (*notice that is the same computed by the solver using the PH approach*) "
   ]
  },
  {
   "cell_type": "code",
   "execution_count": 119,
   "metadata": {},
   "outputs": [
    {
     "name": "stdout",
     "output_type": "stream",
     "text": [
      "WS : -115405.556\n"
     ]
    }
   ],
   "source": [
    "import numpy as np\n",
    "\n",
    "WS = np.mean([WSGood, WSAverage, WSBad])\n",
    "print(\"WS : \" + str(round(WS,3)))"
   ]
  },
  {
   "cell_type": "markdown",
   "metadata": {},
   "source": [
    "So **the value of the perfect information** would be:"
   ]
  },
  {
   "cell_type": "code",
   "execution_count": 122,
   "metadata": {},
   "outputs": [
    {
     "name": "stdout",
     "output_type": "stream",
     "text": [
      "EVPI: 7015.556086577271\n"
     ]
    }
   ],
   "source": [
    "EVPI = RP - WS\n",
    "print(\"EVPI: \" + str(EVPI)) "
   ]
  }
 ],
 "metadata": {
  "kernelspec": {
   "display_name": "Python 3.10.7 64-bit",
   "language": "python",
   "name": "python3"
  },
  "language_info": {
   "codemirror_mode": {
    "name": "ipython",
    "version": 3
   },
   "file_extension": ".py",
   "mimetype": "text/x-python",
   "name": "python",
   "nbconvert_exporter": "python",
   "pygments_lexer": "ipython3",
   "version": "3.10.7"
  },
  "orig_nbformat": 4,
  "vscode": {
   "interpreter": {
    "hash": "af153e239d61b5c0d363f35fe8a0509d492506f382d017c98fa3fb49fce70a72"
   }
  }
 },
 "nbformat": 4,
 "nbformat_minor": 2
}
